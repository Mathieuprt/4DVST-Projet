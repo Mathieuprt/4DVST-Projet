{
 "cells": [
  {
   "cell_type": "markdown",
   "id": "1c21f7f4",
   "metadata": {},
   "source": [
    "# Fusion des datasets météo"
   ]
  },
  {
   "cell_type": "markdown",
   "id": "176993ae",
   "metadata": {},
   "source": [
    "## Import des librairies"
   ]
  },
  {
   "cell_type": "code",
   "execution_count": 1,
   "id": "68b32caa",
   "metadata": {},
   "outputs": [],
   "source": [
    "import pandas as pd\n",
    "import numpy as np"
   ]
  },
  {
   "cell_type": "code",
   "execution_count": 3,
   "id": "8fff6710",
   "metadata": {},
   "outputs": [],
   "source": [
    "df1 = pd.read_csv('../staged_data/decad_2005_2009_meteo.csv')\n",
    "df2 = pd.read_csv('../staged_data/decad_2010_2019_meteo.csv')"
   ]
  },
  {
   "cell_type": "code",
   "execution_count": 4,
   "id": "bee78c15",
   "metadata": {},
   "outputs": [
    {
     "name": "stdout",
     "output_type": "stream",
     "text": [
      "Colonnes df1: ['Date', 'temp_AVG', 'Année', 'Mois', 'Nom_Mois']\n",
      "Colonnes df2: ['Date', 'temp_AVG', 'Année', 'Mois', 'Nom_Mois']\n"
     ]
    }
   ],
   "source": [
    "# 3) Vérifier que les colonnes sont identiques\n",
    "print(\"Colonnes df1:\", df1.columns.tolist())\n",
    "print(\"Colonnes df2:\", df2.columns.tolist())\n"
   ]
  },
  {
   "cell_type": "code",
   "execution_count": 5,
   "id": "324d150e",
   "metadata": {},
   "outputs": [],
   "source": [
    "# Fusionner les deux DataFrames\n",
    "df_meteo = pd.concat([df1, df2], ignore_index=True)\n"
   ]
  },
  {
   "cell_type": "code",
   "execution_count": 6,
   "id": "3a4946bf",
   "metadata": {},
   "outputs": [
    {
     "name": "stdout",
     "output_type": "stream",
     "text": [
      "Valeurs uniques de la colonne 'Année' dans df_meteo: [2005 2006 2007 2008 2009 2010 2011 2012 2013 2014 2015 2016 2017 2018\n",
      " 2019]\n"
     ]
    }
   ],
   "source": [
    "# Vérification des valeurs uniques de la colonne 'Année'\n",
    "print(\"Valeurs uniques de la colonne 'Année' dans df_meteo:\", df_meteo['Année'].unique())"
   ]
  },
  {
   "cell_type": "code",
   "execution_count": 9,
   "id": "59a780a0",
   "metadata": {},
   "outputs": [
    {
     "name": "stdout",
     "output_type": "stream",
     "text": [
      "Date          int64\n",
      "temp_AVG    float64\n",
      "Année         int64\n",
      "Mois          int64\n",
      "Nom_Mois     object\n",
      "dtype: object\n"
     ]
    }
   ],
   "source": [
    "# Vérification des types de données\n",
    "print(df_meteo.dtypes)"
   ]
  },
  {
   "cell_type": "code",
   "execution_count": 10,
   "id": "dbd3038b",
   "metadata": {},
   "outputs": [],
   "source": [
    "# Export CSV\n",
    "df_meteo.to_csv('../transformed_data/decad_meteo.csv', index=False)"
   ]
  },
  {
   "cell_type": "code",
   "execution_count": null,
   "id": "f99e0766",
   "metadata": {},
   "outputs": [],
   "source": []
  }
 ],
 "metadata": {
  "kernelspec": {
   "display_name": "venv",
   "language": "python",
   "name": "python3"
  },
  "language_info": {
   "codemirror_mode": {
    "name": "ipython",
    "version": 3
   },
   "file_extension": ".py",
   "mimetype": "text/x-python",
   "name": "python",
   "nbconvert_exporter": "python",
   "pygments_lexer": "ipython3",
   "version": "3.12.0"
  }
 },
 "nbformat": 4,
 "nbformat_minor": 5
}
